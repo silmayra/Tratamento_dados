{
 "cells": [
  {
   "cell_type": "code",
   "execution_count": 6,
   "id": "a2d66717-0bb1-4600-9220-813f82b4c70b",
   "metadata": {},
   "outputs": [
    {
     "name": "stdout",
     "output_type": "stream",
     "text": [
      "Requirement already satisfied: pandas in c:\\users\\proqualigrad\\anaconda3\\lib\\site-packages (2.1.4)Note: you may need to restart the kernel to use updated packages.\n",
      "\n",
      "Requirement already satisfied: openpyxl in c:\\users\\proqualigrad\\anaconda3\\lib\\site-packages (3.0.10)\n",
      "Requirement already satisfied: numpy<2,>=1.23.2 in c:\\users\\proqualigrad\\anaconda3\\lib\\site-packages (from pandas) (1.26.4)\n",
      "Requirement already satisfied: python-dateutil>=2.8.2 in c:\\users\\proqualigrad\\anaconda3\\lib\\site-packages (from pandas) (2.8.2)\n",
      "Requirement already satisfied: pytz>=2020.1 in c:\\users\\proqualigrad\\anaconda3\\lib\\site-packages (from pandas) (2023.3.post1)\n",
      "Requirement already satisfied: tzdata>=2022.1 in c:\\users\\proqualigrad\\anaconda3\\lib\\site-packages (from pandas) (2023.3)\n",
      "Requirement already satisfied: et_xmlfile in c:\\users\\proqualigrad\\anaconda3\\lib\\site-packages (from openpyxl) (1.1.0)\n",
      "Requirement already satisfied: six>=1.5 in c:\\users\\proqualigrad\\anaconda3\\lib\\site-packages (from python-dateutil>=2.8.2->pandas) (1.16.0)\n"
     ]
    }
   ],
   "source": [
    "pip install pandas openpyxl"
   ]
  },
  {
   "cell_type": "code",
   "execution_count": 7,
   "id": "0b0dfade-f2cd-4aa4-a675-84c3b1676a6c",
   "metadata": {},
   "outputs": [],
   "source": [
    "import pandas as pd\n"
   ]
  },
  {
   "cell_type": "code",
   "execution_count": 32,
   "id": "6a0d5c2d-5d66-4683-b533-53c25d111d68",
   "metadata": {},
   "outputs": [],
   "source": [
    "import numpy as np"
   ]
  },
  {
   "cell_type": "code",
   "execution_count": 33,
   "id": "6485c1e8-1b16-45c9-a33b-583ee3cc01fd",
   "metadata": {},
   "outputs": [],
   "source": [
    "import matplotlib.pyplot as plt"
   ]
  },
  {
   "cell_type": "code",
   "execution_count": 34,
   "id": "e04ff5da-c6f5-45c6-ab20-52d235915481",
   "metadata": {},
   "outputs": [
    {
     "name": "stdout",
     "output_type": "stream",
     "text": [
      "C:\\Users\\PROQUALIGRAD\n"
     ]
    }
   ],
   "source": [
    "#descobrir o diretório\n",
    "import os\n",
    "print(os.getcwd())"
   ]
  },
  {
   "cell_type": "code",
   "execution_count": 35,
   "id": "ee786ced-ffaf-4515-b21d-62e7a02817f2",
   "metadata": {},
   "outputs": [],
   "source": [
    "#colocando a planilha\n",
    "df = pd.read_excel('C:/Users/PROQUALIGRAD/Downloads/dados_analista.xlsx')"
   ]
  },
  {
   "cell_type": "code",
   "execution_count": 36,
   "id": "d0b527be-4b73-43dd-856a-d579fc444c13",
   "metadata": {},
   "outputs": [],
   "source": [
    "#converter de minusculo para maiusculo  \n",
    "df.columns = df.columns.str.upper()"
   ]
  },
  {
   "cell_type": "code",
   "execution_count": 37,
   "id": "e6111f87-1ded-4ef8-b361-fd71ea254f7c",
   "metadata": {},
   "outputs": [
    {
     "name": "stdout",
     "output_type": "stream",
     "text": [
      "   ID  PONTOS ESTADO    GENERO  IDADE  BENS  SALDO NA CONTA  PRODUTO  \\\n",
      "0   1     619     BA  Feminino     42     2               0        1   \n",
      "1   2     608     CE  Feminino     41     1         8380786        1   \n",
      "2   3     502     BA  Feminino     42     8         1596608        3   \n",
      "3   4     699     BA  Feminino     39     1               0        2   \n",
      "4   5     850     CE  Feminino     43     2        12551082        1   \n",
      "\n",
      "   POSSUI CARTAO  ATIVO     SALARIO  SAIU  \n",
      "0              1      1  10134888.0     1  \n",
      "1              0      1  11254258.0     0  \n",
      "2              1      0  11393157.0     1  \n",
      "3              0      0   9382663.0     0  \n",
      "4              1      1    790841.0     0  \n"
     ]
    }
   ],
   "source": [
    "print(df.head())"
   ]
  },
  {
   "cell_type": "code",
   "execution_count": 38,
   "id": "ccb52367-0462-44ac-b18c-df0cbb9ccd80",
   "metadata": {},
   "outputs": [
    {
     "name": "stdout",
     "output_type": "stream",
     "text": [
      "1\n"
     ]
    }
   ],
   "source": [
    "#VERIFICANDO DUPLICIDADE\n",
    "print(df.duplicated().sum())"
   ]
  },
  {
   "cell_type": "code",
   "execution_count": 39,
   "id": "86056cda-9b27-4327-896f-fb9d209effcd",
   "metadata": {},
   "outputs": [],
   "source": [
    "#REMOVENDO AS DUPLICATAS\n",
    "df_sem_duplicados = df.drop_duplicates()"
   ]
  },
  {
   "cell_type": "code",
   "execution_count": 40,
   "id": "667f06ef-377a-4fdf-be40-544d47418721",
   "metadata": {},
   "outputs": [
    {
     "name": "stdout",
     "output_type": "stream",
     "text": [
      "Linhas antes: 999\n",
      "Linhas depois: 998\n"
     ]
    }
   ],
   "source": [
    "#CONTANDO AS LINHAS ANTES E DEPOIS\n",
    "print(\"Linhas antes:\", len(df))\n",
    "print(\"Linhas depois:\", len(df_sem_duplicados))"
   ]
  },
  {
   "cell_type": "code",
   "execution_count": 53,
   "id": "827aa81d-0e67-4779-a9e7-5d1ca3063e33",
   "metadata": {},
   "outputs": [],
   "source": [
    "# criando um DataFrame de exemplo PARA TROCAR DE FEM E MAS PARA MASCULINO E FEMININO\n",
    "dados = {'Gênero': ['Mas', 'Fem', 'Masculino', 'Feminino', 'Fem','M','F']}\n",
    "df = pd.DataFrame(dados)"
   ]
  },
  {
   "cell_type": "code",
   "execution_count": 42,
   "id": "2db8e2e6-f5a1-4e46-b4d9-8298db884989",
   "metadata": {},
   "outputs": [],
   "source": [
    "# dicionário para mapear os valores inconsistentes\n",
    "mapeamento = {'Mas': 'Masculino', 'Fem': 'Feminino', 'F':'Feminino','M':'Masculino'}"
   ]
  },
  {
   "cell_type": "code",
   "execution_count": 43,
   "id": "f1f44248-d398-4a76-a855-5a0e8535c711",
   "metadata": {},
   "outputs": [],
   "source": [
    "#  mapeando à coluna 'Gênero'\n",
    "df['Gênero'] = df['Gênero'].replace(mapeamento)\n"
   ]
  },
  {
   "cell_type": "code",
   "execution_count": 44,
   "id": "e4969757-eb27-4e28-851b-219172b40b90",
   "metadata": {},
   "outputs": [
    {
     "name": "stdout",
     "output_type": "stream",
     "text": [
      "      Gênero\n",
      "0  Masculino\n",
      "1   Feminino\n",
      "2  Masculino\n",
      "3   Feminino\n",
      "4   Feminino\n",
      "5  Masculino\n",
      "6   Feminino\n"
     ]
    }
   ],
   "source": [
    "#vizulizando\n",
    "print(df)"
   ]
  },
  {
   "cell_type": "code",
   "execution_count": 45,
   "id": "5242cb0f-45f0-42e1-8834-41352805519f",
   "metadata": {},
   "outputs": [
    {
     "name": "stdout",
     "output_type": "stream",
     "text": [
      "Gênero    0\n",
      "dtype: int64\n"
     ]
    }
   ],
   "source": [
    "# Verificando a presença de valores nulos\n",
    "print(df.isnull().sum())"
   ]
  },
  {
   "cell_type": "code",
   "execution_count": 54,
   "id": "4ef59533-d788-46b1-b864-fcc42ccd0dff",
   "metadata": {},
   "outputs": [
    {
     "name": "stdout",
     "output_type": "stream",
     "text": [
      "    Salario\n",
      "0  10134888\n",
      "1  11254258\n",
      "2  19085779\n"
     ]
    }
   ],
   "source": [
    "import pandas as pd\n",
    "\n",
    "# Criando um dicionário com os dados\n",
    "data = {'Salario':['10134888','11254258','19085779']}\n",
    "\n",
    "# Criando o DataFrame\n",
    "df = pd.DataFrame(data)\n",
    "\n",
    "# Convertendo a coluna 'Salario' para inteiro (assumindo que representa valores salariais)\n",
    "df['Salario'] = pd.to_numeric(df['Salario'], errors='coerce')  # Trata valores não numéricos\n",
    "\n",
    "# Imprimindo o DataFrame\n",
    "print(df)"
   ]
  },
  {
   "cell_type": "code",
   "execution_count": 56,
   "id": "a4618efd-0feb-4efe-8900-af018232bf01",
   "metadata": {},
   "outputs": [],
   "source": [
    "#preencher valores faltantes\n",
    "df['Salario'].fillna(df['Salario'].median(), inplace=True)"
   ]
  },
  {
   "cell_type": "code",
   "execution_count": 57,
   "id": "23461ee3-fec3-4b4c-9aa2-69429ec8a5ae",
   "metadata": {},
   "outputs": [
    {
     "name": "stdout",
     "output_type": "stream",
     "text": [
      "Salario    0\n",
      "dtype: int64\n"
     ]
    }
   ],
   "source": [
    "#vendo se ainda há valores faltantes\n",
    "print(df.isnull().sum())"
   ]
  },
  {
   "cell_type": "code",
   "execution_count": 58,
   "id": "21b370ae-1025-4e91-b837-f1fae170dae8",
   "metadata": {},
   "outputs": [],
   "source": [
    "df.to_excel('dados_planilha.xlsx', index=False)  # Substitui o arquivo original"
   ]
  },
  {
   "cell_type": "code",
   "execution_count": 60,
   "id": "1d80d642-bb9f-44bc-ac64-41e0efe9d39a",
   "metadata": {},
   "outputs": [
    {
     "data": {
      "text/plain": [
       "'C:\\\\Users\\\\PROQUALIGRAD'"
      ]
     },
     "execution_count": 60,
     "metadata": {},
     "output_type": "execute_result"
    }
   ],
   "source": [
    "os.getcwd()"
   ]
  },
  {
   "cell_type": "code",
   "execution_count": null,
   "id": "0c19a9e6-152e-459f-827e-75fac3907bbb",
   "metadata": {},
   "outputs": [],
   "source": []
  }
 ],
 "metadata": {
  "kernelspec": {
   "display_name": "Python 3 (ipykernel)",
   "language": "python",
   "name": "python3"
  },
  "language_info": {
   "codemirror_mode": {
    "name": "ipython",
    "version": 3
   },
   "file_extension": ".py",
   "mimetype": "text/x-python",
   "name": "python",
   "nbconvert_exporter": "python",
   "pygments_lexer": "ipython3",
   "version": "3.11.7"
  }
 },
 "nbformat": 4,
 "nbformat_minor": 5
}
